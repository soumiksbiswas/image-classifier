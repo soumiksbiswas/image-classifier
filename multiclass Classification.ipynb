{
  "cells": [
    {
      "cell_type": "code",
      "execution_count": null,
      "metadata": {
        "colab": {
          "base_uri": "https://localhost:8080/"
        },
        "id": "WHPUAQbs3fOy",
        "outputId": "0312936d-a608-44bb-c515-2c321f06f9a4"
      },
      "outputs": [
        {
          "name": "stdout",
          "output_type": "stream",
          "text": [
            "Drive already mounted at /content/drive; to attempt to forcibly remount, call drive.mount(\"/content/drive\", force_remount=True).\n"
          ]
        }
      ],
      "source": [
        "from google.colab import drive\n",
        "drive.mount('/content/drive')"
      ]
    },
    {
      "cell_type": "code",
      "execution_count": null,
      "metadata": {
        "id": "Kqv1_hW6jevE"
      },
      "outputs": [],
      "source": [
        "from tensorflow.keras.preprocessing.image import load_img, img_to_array\n",
        "import os\n",
        "import numpy as np\n",
        "from tensorflow.keras.applications.vgg16 import VGG16\n",
        "from tensorflow.keras.models import Model\n",
        "from tensorflow.keras.layers import Dense, GlobalAveragePooling2D, Flatten, Dropout\n",
        "from tensorflow.keras.preprocessing.image import ImageDataGenerator\n",
        "from tensorflow.keras.optimizers import Adam"
      ]
    },
    {
      "cell_type": "code",
      "execution_count": null,
      "metadata": {
        "colab": {
          "base_uri": "https://localhost:8080/"
        },
        "id": "i-Og-zeC3iKV",
        "outputId": "5b2f6e73-25cb-43bc-c7ab-edd50e8f1dc5"
      },
      "outputs": [
        {
          "name": "stdout",
          "output_type": "stream",
          "text": [
            "Downloading data from https://storage.googleapis.com/tensorflow/keras-applications/vgg16/vgg16_weights_tf_dim_ordering_tf_kernels_notop.h5\n",
            "58889256/58889256 [==============================] - 3s 0us/step\n"
          ]
        },
        {
          "name": "stderr",
          "output_type": "stream",
          "text": [
            "WARNING:absl:`lr` is deprecated in Keras optimizer, please use `learning_rate` or use the legacy optimizer, e.g.,tf.keras.optimizers.legacy.Adam.\n"
          ]
        }
      ],
      "source": [
        "# Set the number of classes in your dataset\n",
        "num_classes = 4\n",
        "\n",
        "# Load the VGG16 model without the top (fully connected) layers\n",
        "base_model = VGG16(weights='imagenet', include_top=False, input_shape=(224, 224, 3))\n",
        "\n",
        "# Add your own classification layers on top of the base model\n",
        "# Remove the bottom layers of the base model\n",
        "x = base_model.output\n",
        "x = GlobalAveragePooling2D()(x)\n",
        "x = Dense(1024, activation='relu')(x)\n",
        "x = Dropout(0.2)(x)\n",
        "x = Dense(512, activation='relu')(x)\n",
        "x = Dropout(0.2)(x)\n",
        "x = Dense(256, activation='relu')(x)\n",
        "x = Dropout(0.1)(x)\n",
        "x = Dense(128, activation='relu')(x)\n",
        "x = Dropout(0.1)(x)\n",
        "x = Dense(64, activation='relu')(x)\n",
        "x = Flatten()(x)\n",
        "predictions = Dense(num_classes, activation='softmax')(x)\n",
        "\n",
        "model = Model(inputs=base_model.input, outputs=predictions)\n",
        "\n",
        "# Freeze the layers in the base model\n",
        "for layer in base_model.layers:\n",
        "    layer.trainable = False\n",
        "\n",
        "# Compile the model\n",
        "optimizer = Adam(lr=0.001)\n",
        "model.compile(optimizer=optimizer, loss='categorical_crossentropy', metrics=['accuracy'])\n",
        "\n",
        "# Set up the data generators for training and validation images\n",
        "train_datagen = ImageDataGenerator(rescale=1.0 / 255,  # Rescale pixel values to [0, 1]\n",
        "    # rotation_range=10, # rotation\n",
        "    # width_shift_range=0.2, # horizontal shift\n",
        "    # height_shift_range=0.2, # vertical shift\n",
        "    # shear_range=0.2,  # Randomly apply shearing transformations\n",
        "    # zoom_range=0.2,  # Randomly apply zooming transformations\n",
        "    # horizontal_flip=True)  # Randomly flip images horizontally)\n",
        ")\n",
        "validation_datagen = ImageDataGenerator(rescale=1.0/255.0)\n",
        "\n",
        "train_dir = '/content/drive/MyDrive/Forest project/aug images/train'\n",
        "validation_dir = '/content/drive/MyDrive/model data/validation'\n",
        "batch_size = 16\n",
        "num_epochs = 10"
      ]
    },
    {
      "cell_type": "code",
      "execution_count": null,
      "metadata": {
        "colab": {
          "base_uri": "https://localhost:8080/"
        },
        "id": "Op5F8xEp9JTc",
        "outputId": "e1ba13da-fbdc-495f-8cff-e118f254709e"
      },
      "outputs": [
        {
          "name": "stdout",
          "output_type": "stream",
          "text": [
            "Model: \"model\"\n",
            "_________________________________________________________________\n",
            " Layer (type)                Output Shape              Param #   \n",
            "=================================================================\n",
            " input_1 (InputLayer)        [(None, 224, 224, 3)]     0         \n",
            "                                                                 \n",
            " block1_conv1 (Conv2D)       (None, 224, 224, 64)      1792      \n",
            "                                                                 \n",
            " block1_conv2 (Conv2D)       (None, 224, 224, 64)      36928     \n",
            "                                                                 \n",
            " block1_pool (MaxPooling2D)  (None, 112, 112, 64)      0         \n",
            "                                                                 \n",
            " block2_conv1 (Conv2D)       (None, 112, 112, 128)     73856     \n",
            "                                                                 \n",
            " block2_conv2 (Conv2D)       (None, 112, 112, 128)     147584    \n",
            "                                                                 \n",
            " block2_pool (MaxPooling2D)  (None, 56, 56, 128)       0         \n",
            "                                                                 \n",
            " block3_conv1 (Conv2D)       (None, 56, 56, 256)       295168    \n",
            "                                                                 \n",
            " block3_conv2 (Conv2D)       (None, 56, 56, 256)       590080    \n",
            "                                                                 \n",
            " block3_conv3 (Conv2D)       (None, 56, 56, 256)       590080    \n",
            "                                                                 \n",
            " block3_pool (MaxPooling2D)  (None, 28, 28, 256)       0         \n",
            "                                                                 \n",
            " block4_conv1 (Conv2D)       (None, 28, 28, 512)       1180160   \n",
            "                                                                 \n",
            " block4_conv2 (Conv2D)       (None, 28, 28, 512)       2359808   \n",
            "                                                                 \n",
            " block4_conv3 (Conv2D)       (None, 28, 28, 512)       2359808   \n",
            "                                                                 \n",
            " block4_pool (MaxPooling2D)  (None, 14, 14, 512)       0         \n",
            "                                                                 \n",
            " block5_conv1 (Conv2D)       (None, 14, 14, 512)       2359808   \n",
            "                                                                 \n",
            " block5_conv2 (Conv2D)       (None, 14, 14, 512)       2359808   \n",
            "                                                                 \n",
            " block5_conv3 (Conv2D)       (None, 14, 14, 512)       2359808   \n",
            "                                                                 \n",
            " block5_pool (MaxPooling2D)  (None, 7, 7, 512)         0         \n",
            "                                                                 \n",
            " global_average_pooling2d (G  (None, 512)              0         \n",
            " lobalAveragePooling2D)                                          \n",
            "                                                                 \n",
            " dense (Dense)               (None, 1024)              525312    \n",
            "                                                                 \n",
            " dropout (Dropout)           (None, 1024)              0         \n",
            "                                                                 \n",
            " dense_1 (Dense)             (None, 512)               524800    \n",
            "                                                                 \n",
            " dropout_1 (Dropout)         (None, 512)               0         \n",
            "                                                                 \n",
            " dense_2 (Dense)             (None, 256)               131328    \n",
            "                                                                 \n",
            " dropout_2 (Dropout)         (None, 256)               0         \n",
            "                                                                 \n",
            " dense_3 (Dense)             (None, 128)               32896     \n",
            "                                                                 \n",
            " dropout_3 (Dropout)         (None, 128)               0         \n",
            "                                                                 \n",
            " dense_4 (Dense)             (None, 64)                8256      \n",
            "                                                                 \n",
            " flatten (Flatten)           (None, 64)                0         \n",
            "                                                                 \n",
            " dense_5 (Dense)             (None, 4)                 260       \n",
            "                                                                 \n",
            "=================================================================\n",
            "Total params: 15,937,540\n",
            "Trainable params: 1,222,852\n",
            "Non-trainable params: 14,714,688\n",
            "_________________________________________________________________\n"
          ]
        }
      ],
      "source": [
        "model.summary()"
      ]
    },
    {
      "attachments": {},
      "cell_type": "markdown",
      "metadata": {},
      "source": [
        "To get number of images present in train and validation folder"
      ]
    },
    {
      "cell_type": "code",
      "execution_count": null,
      "metadata": {
        "colab": {
          "base_uri": "https://localhost:8080/"
        },
        "id": "TPhJnywNcb6c",
        "outputId": "87d42385-e591-4f05-d381-d7b083aa8173"
      },
      "outputs": [
        {
          "name": "stdout",
          "output_type": "stream",
          "text": [
            "Number of images of Tiger in the folder: 20\n",
            "Number of images of Bear in the folder: 10\n",
            "Number of images of Leopard in the folder: 19\n",
            "Number of images of Nothing in the folder: 150\n"
          ]
        }
      ],
      "source": [
        "import os\n",
        "\n",
        "# folder path\n",
        "tiger_p = '/content/drive/MyDrive/model data/validation/Tiger'\n",
        "bear_p = '/content/drive/MyDrive/model data/validation/Bear'\n",
        "leopard_p = '/content/drive/MyDrive/model data/validation/Leopard'\n",
        "nothing_p = '/content/drive/MyDrive/model data/validation/Nothing'\n",
        "# list of files in the folder\n",
        "file_list_tig = os.listdir(tiger_p)\n",
        "file_list_leo = os.listdir(leopard_p)\n",
        "file_list_bear = os.listdir(bear_p)\n",
        "file_list_not = os.listdir(nothing_p)\n",
        "\n",
        "\n",
        "#  number of files\n",
        "num_files_tig = len(file_list_tig)\n",
        "num_files_leo = len(file_list_leo)\n",
        "num_files_bear = len(file_list_bear)\n",
        "num_files_not = len(file_list_not)\n",
        "\n",
        "\n",
        "# Printing the number of files\n",
        "print(f\"Number of images of Tiger in the folder: {num_files_tig}\")\n",
        "print(f\"Number of images of Bear in the folder: {num_files_bear}\")\n",
        "print(f\"Number of images of Leopard in the folder: {num_files_leo}\")\n",
        "print(f\"Number of images of Nothing in the folder: {num_files_not}\")"
      ]
    },
    {
      "cell_type": "code",
      "execution_count": null,
      "metadata": {
        "colab": {
          "base_uri": "https://localhost:8080/"
        },
        "id": "cND457d0chm7",
        "outputId": "b4e51dc9-e3cc-4e40-c882-225be3922fe5"
      },
      "outputs": [
        {
          "name": "stdout",
          "output_type": "stream",
          "text": [
            "Number of images of Tiger in the folder: 201\n",
            "Number of images of Bear in the folder: 92\n",
            "Number of images of Leopard in the folder: 225\n",
            "Number of images of Nothing in the folder: 2593\n"
          ]
        }
      ],
      "source": [
        " tiger_p = '/content/drive/MyDrive/Forest project/aug images/train/tiger'\n",
        "bear_p = '/content/drive/MyDrive/Forest project/aug images/train/bear'\n",
        "leopard_p = '/content/drive/MyDrive/Forest project/aug images/train/leopard'\n",
        "nothing_p = '/content/drive/MyDrive/Forest project/aug images/train/nothing'\n",
        "file_list_tig = os.listdir(tiger_p)\n",
        "file_list_leo = os.listdir(leopard_p)\n",
        "file_list_bear = os.listdir(bear_p)\n",
        "file_list_not = os.listdir(nothing_p)\n",
        "num_files_tig = len(file_list_tig)\n",
        "num_files_leo = len(file_list_leo)\n",
        "num_files_bear = len(file_list_bear)\n",
        "num_files_not = len(file_list_not)\n",
        "print(f\"Number of images of Tiger in the folder: {num_files_tig}\")\n",
        "print(f\"Number of images of Bear in the folder: {num_files_bear}\")\n",
        "print(f\"Number of images of Leopard in the folder: {num_files_leo}\")\n",
        "print(f\"Number of images of Nothing in the folder: {num_files_not}\")"
      ]
    },
    {
      "cell_type": "code",
      "execution_count": null,
      "metadata": {
        "colab": {
          "base_uri": "https://localhost:8080/"
        },
        "id": "OTIrSnDD8Lqn",
        "outputId": "6bb20206-4f15-4bf6-b9a0-3e9328332b7f"
      },
      "outputs": [
        {
          "name": "stdout",
          "output_type": "stream",
          "text": [
            "Found 3111 images belonging to 4 classes.\n",
            "Found 199 images belonging to 4 classes.\n"
          ]
        }
      ],
      "source": [
        "\n",
        "train_generator = train_datagen.flow_from_directory(\n",
        "    train_dir,\n",
        "    target_size=(224, 224),\n",
        "    batch_size=batch_size,\n",
        "    class_mode='categorical')\n",
        "\n",
        "validation_generator = validation_datagen.flow_from_directory(\n",
        "    validation_dir,\n",
        "    target_size=(224, 224),\n",
        "    batch_size=batch_size,\n",
        "    class_mode='categorical')"
      ]
    },
    {
      "attachments": {},
      "cell_type": "markdown",
      "metadata": {},
      "source": [
        "Training Model"
      ]
    },
    {
      "cell_type": "code",
      "execution_count": null,
      "metadata": {
        "colab": {
          "base_uri": "https://localhost:8080/"
        },
        "id": "fYiSbnPR8FpY",
        "outputId": "9871e83c-c9b6-407c-9c6a-63c6f5bcfe18"
      },
      "outputs": [
        {
          "name": "stdout",
          "output_type": "stream",
          "text": [
            "Epoch 1/10\n",
            "194/194 [==============================] - 2139s 11s/step - loss: 0.5896 - accuracy: 0.8278 - val_loss: 1.2218 - val_accuracy: 0.6562\n",
            "Epoch 2/10\n",
            "194/194 [==============================] - 63s 325ms/step - loss: 0.4547 - accuracy: 0.8346 - val_loss: 1.2688 - val_accuracy: 0.7552\n",
            "Epoch 3/10\n",
            "194/194 [==============================] - 67s 344ms/step - loss: 0.4410 - accuracy: 0.8330 - val_loss: 1.2182 - val_accuracy: 0.6875\n",
            "Epoch 4/10\n",
            "194/194 [==============================] - 65s 334ms/step - loss: 0.4152 - accuracy: 0.8420 - val_loss: 1.0998 - val_accuracy: 0.7240\n",
            "Epoch 5/10\n",
            "194/194 [==============================] - 64s 329ms/step - loss: 0.3896 - accuracy: 0.8478 - val_loss: 1.2670 - val_accuracy: 0.8177\n",
            "Epoch 6/10\n",
            "194/194 [==============================] - 64s 331ms/step - loss: 0.3693 - accuracy: 0.8627 - val_loss: 1.7210 - val_accuracy: 0.7135\n",
            "Epoch 7/10\n",
            "194/194 [==============================] - 62s 321ms/step - loss: 0.3619 - accuracy: 0.8659 - val_loss: 2.1979 - val_accuracy: 0.6927\n",
            "Epoch 8/10\n",
            "194/194 [==============================] - 64s 329ms/step - loss: 0.3389 - accuracy: 0.8701 - val_loss: 1.9688 - val_accuracy: 0.8281\n",
            "Epoch 9/10\n",
            "194/194 [==============================] - 64s 331ms/step - loss: 0.3229 - accuracy: 0.8853 - val_loss: 2.0188 - val_accuracy: 0.8177\n",
            "Epoch 10/10\n",
            "194/194 [==============================] - 62s 321ms/step - loss: 0.3075 - accuracy: 0.8856 - val_loss: 1.5547 - val_accuracy: 0.8177\n"
          ]
        },
        {
          "data": {
            "text/plain": [
              "<keras.callbacks.History at 0x7f00e00e3190>"
            ]
          },
          "execution_count": 21,
          "metadata": {},
          "output_type": "execute_result"
        }
      ],
      "source": [
        "# Train the model\n",
        "model.fit(\n",
        "    train_generator,\n",
        "    steps_per_epoch=train_generator.n // batch_size,\n",
        "    epochs=num_epochs,\n",
        "    validation_data=validation_generator,\n",
        "    validation_steps=validation_generator.n // batch_size)"
      ]
    },
    {
      "cell_type": "code",
      "execution_count": null,
      "metadata": {
        "id": "Ob60rx36Wk2l"
      },
      "outputs": [],
      "source": [
        "\n",
        "# Save the model\n",
        "model.save('/content/drive/MyDrive/model save/model_four_classes_aug_image_9_6_model_new.h5')\n"
      ]
    },
    {
      "attachments": {},
      "cell_type": "markdown",
      "metadata": {
        "id": "IKn-yFNVdr2E"
      },
      "source": []
    },
    {
      "cell_type": "code",
      "execution_count": null,
      "metadata": {
        "id": "Nvup6bdgF4D-"
      },
      "outputs": [],
      "source": [
        "import os\n",
        "import numpy as np\n",
        "import tensorflow as tf\n",
        "from tensorflow.keras.preprocessing.image import load_img, img_to_array\n",
        "import pandas as pd\n",
        "import io\n",
        "import cv2\n",
        "import numpy as np\n",
        "from tensorflow.keras.models import load_model\n",
        "from PIL import Image\n",
        "from tensorflow.keras.preprocessing.image import load_img, img_to_array"
      ]
    },
    {
      "cell_type": "code",
      "execution_count": null,
      "metadata": {},
      "outputs": [],
      "source": [
        "data_dir = '/content/drive/MyDrive/Forest project/aug images/train'\n",
        "\n",
        "class_labels = sorted(os.listdir(data_dir))\n",
        "print(class_labels)"
      ]
    },
    {
      "attachments": {},
      "cell_type": "markdown",
      "metadata": {},
      "source": [
        "model prediction on test image from folder to be saved as dataframe"
      ]
    },
    {
      "cell_type": "code",
      "execution_count": null,
      "metadata": {
        "id": "tMKkMMjZFCgA"
      },
      "outputs": [],
      "source": [
        "image_folder = '/content/drive/MyDrive/test images/img_url'\n",
        "\n",
        "\n",
        "def preprocess_image(image_path):\n",
        "    img = load_img(image_path, target_size=(224, 224))\n",
        "    img = img_to_array(img)\n",
        "    img = np.expand_dims(img, axis=0)\n",
        "    img = img / 255.0  # Normalize pixel values to [0, 1]\n",
        "    return img\n",
        "\n",
        "def predict(image_path):\n",
        "    image = Image.open(image_path)\n",
        "    image = preprocess_image(image_path)\n",
        "    prediction = model.predict(image)\n",
        "    return prediction\n",
        "\n",
        "def predict_image_class(image_path):\n",
        "    img = preprocess_image(image_path)\n",
        "    prediction = model.predict(img)\n",
        "    predicted_class = np.argmax(prediction[0])\n",
        "    predicted_class_index = np.argmax(prediction)\n",
        "    return predicted_class_index"
      ]
    },
    {
      "cell_type": "code",
      "execution_count": null,
      "metadata": {
        "id": "PTQT39J2FOxb"
      },
      "outputs": [],
      "source": [
        "# List to store the image names and predicted values\n",
        "image_names = []\n",
        "pred_index = []\n",
        "all_predictions = []\n",
        "\n",
        "# Iterate over the images in the folder\n",
        "for filename in os.listdir(image_folder):\n",
        "    if filename.endswith(('.png', '.jpg', '.jpeg')):\n",
        "        # Load and preprocess the image\n",
        "        image_path = os.path.join(image_folder, filename)\n",
        "        prediction = predict(image_path)\n",
        "        predicted_class_index = predict_image_class(image_path)\n",
        "        pred_index.append(predicted_class_index)\n",
        "        image_names.append(filename)\n",
        "        all_predictions.append(prediction)\n",
        "\n",
        "# Create a dataframe with image names and predicted values\n",
        "data = {'Image Name': image_names,'predicted_class_index': pred_index ,'Predictions': all_predictions}\n",
        "df = pd.DataFrame(data)\n",
        "\n",
        "# Save the dataframe to a CSV file\n",
        "output_file = 'predictions_test.csv'\n",
        "df.to_csv(output_file, index=False)\n",
        "print(\"Predictions saved to\", output_file)"
      ]
    },
    {
      "cell_type": "code",
      "execution_count": null,
      "metadata": {
        "id": "Oe8B5a81Skfy"
      },
      "outputs": [],
      "source": [
        "import io\n",
        "import cv2\n",
        "import numpy as np\n",
        "from tensorflow.keras.models import load_model\n",
        "from PIL import Image\n",
        "from tensorflow.keras.preprocessing.image import load_img, img_to_array"
      ]
    },
    {
      "attachments": {},
      "cell_type": "markdown",
      "metadata": {},
      "source": [
        "model prediction on test image "
      ]
    },
    {
      "cell_type": "code",
      "execution_count": null,
      "metadata": {
        "id": "JiQh_boziIgj"
      },
      "outputs": [],
      "source": [
        "import numpy as np\n",
        "from tensorflow.keras.preprocessing.image import load_img, img_to_array\n",
        "from tensorflow.keras.models import load_model\n",
        "\n",
        "# Load the trained model\n",
        "model = load_model('/content/drive/MyDrive/model.h5')\n",
        "\n",
        "# Dictionary mapping class indices to class labels\n",
        "# class_labels = {0: 'Leopard', 1: 'Nothing', 2: 'Tiger'}\n",
        "\n",
        "# Function to preprocess the image\n",
        "def preprocess_image(image_path):\n",
        "    img = load_img(image_path, target_size=(224, 224))\n",
        "    img_array = img_to_array(img)\n",
        "    img_array = np.expand_dims(img_array, axis=0)\n",
        "    return img_array\n",
        "\n",
        "# Function to make predictions on the image\n",
        "def predict_image(image_path):\n",
        "    preprocessed_img = preprocess_image(image_path)\n",
        "    prediction = model.predict(preprocessed_img)\n",
        "    predicted_class_index = np.argmax(prediction)\n",
        "    # predicted_label = class_labels[predicted_class_index]\n",
        "    print(f\"Predicted class: {predicted_label}\")\n",
        "\n",
        "# Path to the image you want to predict\n",
        "image_path = '/content/images (12).jpeg'\n",
        "\n",
        "# Make predictions on the image\n",
        "predict_image(image_path)"
      ]
    },
    {
      "attachments": {},
      "cell_type": "markdown",
      "metadata": {},
      "source": [
        "Code to reolad the model after saving"
      ]
    },
    {
      "cell_type": "code",
      "execution_count": null,
      "metadata": {},
      "outputs": [],
      "source": [
        "#model loading\n",
        "model = load_model('/content/drive/MyDrive/model.h5')"
      ]
    }
  ],
  "metadata": {
    "accelerator": "GPU",
    "colab": {
      "gpuType": "T4",
      "provenance": []
    },
    "kernelspec": {
      "display_name": "Python 3",
      "name": "python3"
    },
    "language_info": {
      "name": "python"
    }
  },
  "nbformat": 4,
  "nbformat_minor": 0
}
